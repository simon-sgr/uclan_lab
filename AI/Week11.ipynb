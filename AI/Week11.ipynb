{
 "cells": [
  {
   "cell_type": "code",
   "id": "initial_id",
   "metadata": {
    "collapsed": true,
    "ExecuteTime": {
     "end_time": "2025-01-20T16:19:52.998438Z",
     "start_time": "2025-01-20T16:19:52.973913Z"
    }
   },
   "source": [
    "def perceptron(inputs, weights, bias):\n",
    "  weighted_sum = sum(x * w for x, w in zip(inputs, weights)) + bias\n",
    "  return 1 if weighted_sum > 0 else 0\n",
    "\n",
    "inputs = [4,3]\n",
    "weights = [0.6,0.4]\n",
    "bias = -1\n",
    "\n",
    "output = perceptron(inputs, weights, bias)\n",
    "print(\"Prediction (Pass = 1, Fail = 0):\", output)"
   ],
   "outputs": [
    {
     "name": "stdout",
     "output_type": "stream",
     "text": [
      "Prediction (Pass = 1, Fail = 0): 1\n"
     ]
    }
   ],
   "execution_count": 1
  }
 ],
 "metadata": {
  "kernelspec": {
   "display_name": "Python 3",
   "language": "python",
   "name": "python3"
  },
  "language_info": {
   "codemirror_mode": {
    "name": "ipython",
    "version": 2
   },
   "file_extension": ".py",
   "mimetype": "text/x-python",
   "name": "python",
   "nbconvert_exporter": "python",
   "pygments_lexer": "ipython2",
   "version": "2.7.6"
  }
 },
 "nbformat": 4,
 "nbformat_minor": 5
}
